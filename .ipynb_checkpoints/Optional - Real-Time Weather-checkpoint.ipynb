{
 "cells": [
  {
   "cell_type": "markdown",
   "metadata": {},
   "source": [
    "## -- Step 1 - Define Hopsworks and Google API keys and connect to Hopsworks --- "
   ]
  },
  {
   "cell_type": "code",
   "execution_count": null,
   "metadata": {},
   "outputs": [],
   "source": [
    "\n",
    "# Hopsworks and Google API keys\n",
    "HOPSWORKS_API_KEY = exclude.key.HOPSWORKS_API_KEY\n",
    "FEATURE_GROUP_NAME = \"bars_near_london_bridge\"\n",
    "FEATURE_GROUP_VERSION = 3\n",
    "\n",
    "# Connect to Hopsworks\n",
    "project = hopsworks.login(api_key_value=HOPSWORKS_API_KEY)\n",
    "fs = project.get_feature_store()"
   ]
  },
  {
   "cell_type": "markdown",
   "metadata": {},
   "source": [
    "### Step 2: Import Libraries\n"
   ]
  },
  {
   "cell_type": "code",
   "execution_count": null,
   "metadata": {},
   "outputs": [],
   "source": [
    "import datetime\n",
    "import time\n",
    "import pandas as pd\n",
    "import json\n",
    "\n",
    "from functions.parse_weather import get_weather_data_from_open_meteo\n"
   ]
  },
  {
   "cell_type": "markdown",
   "metadata": {},
   "source": [
    "### Step 3: Create Weather Feature Group\n"
   ]
  },
  {
   "cell_type": "code",
   "execution_count": null,
   "metadata": {},
   "outputs": [],
   "source": [
    "\n",
    "weather_fg = fs.get_or_create_feature_group(\n",
    "    name='weather',\n",
    "    description='Weather characteristics of each day',\n",
    "    version=1,\n",
    "    primary_key=['unix_time','city_name'],\n",
    "    event_time=[\"unix_time\"],\n",
    ") \n"
   ]
  },
  {
   "cell_type": "markdown",
   "metadata": {},
   "source": [
    "### Step 4: Backfill\n"
   ]
  },
  {
   "cell_type": "code",
   "execution_count": null,
   "metadata": {},
   "outputs": [],
   "source": [
    "# Read the CSV file from the specified URL into a pandas DataFrame for weather data\n",
    "df_weather = pd.read_csv(\"https://repo.hops.works/dev/davit/air_quality/backfill_weather.csv\")\n",
    "\n",
    "# Apply the 'convert_date_to_unix' function to create a new 'unix_time' column in df_weather\n",
    "df_weather[\"unix_time\"] = pd.to_datetime(df_weather.date).apply(convert_date_to_unix)\n",
    "\n",
    "# Convert the 'date' column in the df_weather DataFrame back to string format\n",
    "df_weather.date = df_weather.date.astype(str)\n"
   ]
  },
  {
   "cell_type": "markdown",
   "metadata": {},
   "source": [
    "### Step 4: Retrieve latest weather data from Open Meteo\n"
   ]
  },
  {
   "cell_type": "code",
   "execution_count": null,
   "metadata": {},
   "outputs": [],
   "source": [
    "# Storing the current time as the start time of the cell execution\n",
    "start_of_cell = time.time()\n",
    "\n",
    "# Creating an empty DataFrame to store raw weather data\n",
    "df_weather_update = pd.DataFrame()\n",
    "\n",
    "# Iterating through continents and cities in the 'target_cities' dictionary\n",
    "for continent in target_cities:\n",
    "    for city_name, coords in target_cities[continent].items():\n",
    "        # Retrieving weather data using the 'get_weather_data_from_open_meteo' function\n",
    "        # with specified parameters such as city name, coordinates, start date, end date, and forecast flag\n",
    "        df_ = get_weather_data_from_open_meteo(\n",
    "            city_name=city_name,\n",
    "            coordinates=coords,\n",
    "            start_date=last_dates_weather[city_name],\n",
    "            end_date=str(today),\n",
    "            forecast=True,\n",
    "        )\n",
    "        \n",
    "        # Concatenating the retrieved data with the existing 'df_weather_update' DataFrame\n",
    "        # and resetting the index to ensure proper alignment\n",
    "        df_weather_update = pd.concat([df_weather_update, df_]).reset_index(drop=True)\n",
    "\n",
    "# Dropping rows with missing values in the 'df_weather_update' DataFrame\n",
    "df_weather_update.dropna(inplace=True)\n",
    "\n",
    "# Storing the current time as the end time of the cell execution\n",
    "end_of_cell = time.time()\n",
    "\n",
    "# Printing information about the execution, including the time taken\n",
    "print(\"-\" * 64)\n",
    "print(f\"Parsed new weather data for ALL cities up to {str(today)}.\")\n",
    "print(f\"Took {round(end_of_cell - start_of_cell, 2)} sec.\\n\")\n"
   ]
  },
  {
   "cell_type": "markdown",
   "metadata": {},
   "source": [
    "### Step 4: Insert latest weather data"
   ]
  },
  {
   "cell_type": "code",
   "execution_count": null,
   "metadata": {},
   "outputs": [],
   "source": [
    "# Creating a new column 'unix_time' in 'df_weather_update' by applying the 'convert_date_to_unix' function\n",
    "df_weather_update[\"unix_time\"] = df_weather_update[\"date\"].apply(convert_date_to_unix)\n",
    "df_weather_update.date = df_weather_update.date.astype(str)\n",
    "\n",
    "# Insert new data\n",
    "weather_fg.insert(df_weather_update)\n"
   ]
  }
 ],
 "metadata": {
  "kernelspec": {
   "display_name": "Python 3 (ipykernel)",
   "language": "python",
   "name": "python3"
  },
  "language_info": {
   "codemirror_mode": {
    "name": "ipython",
    "version": 3
   },
   "file_extension": ".py",
   "mimetype": "text/x-python",
   "name": "python",
   "nbconvert_exporter": "python",
   "pygments_lexer": "ipython3",
   "version": "3.10.0"
  }
 },
 "nbformat": 4,
 "nbformat_minor": 4
}
