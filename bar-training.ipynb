{
 "cells": [
  {
   "cell_type": "markdown",
   "metadata": {},
   "source": [
    "### --- Step 1: Setup and Imports ---\n"
   ]
  },
  {
   "cell_type": "code",
   "execution_count": 8,
   "metadata": {},
   "outputs": [
    {
     "name": "stdout",
     "output_type": "stream",
     "text": [
      "Connection closed.\n",
      "Connected. Call `.close()` to terminate connection gracefully.\n",
      "\n",
      "Logged in to project, explore it here https://c.app.hopsworks.ai:443/p/25749\n",
      "Connected. Call `.close()` to terminate connection gracefully.\n"
     ]
    }
   ],
   "source": [
    "import pandas as pd\n",
    "import numpy as np\n",
    "from sklearn.model_selection import train_test_split\n",
    "from sklearn.preprocessing import StandardScaler\n",
    "from sklearn.preprocessing import LabelEncoder\n",
    "from sklearn.metrics import mean_squared_error, f1_score, confusion_matrix\n",
    "import xgboost as xgb\n",
    "import seaborn as sns\n",
    "import matplotlib.pyplot as plt\n",
    "import hopsworks\n",
    "import exclude.key\n",
    "\n",
    "# Hopsworks\n",
    "HOPSWORKS_API_KEY = exclude.key.HOPSWORKS_API_KEY\n",
    "FEATURE_GROUP_NAME = \"bars_near_london_bridge\"\n",
    "FEATURE_GROUP_VERSION = 1\n",
    "\n",
    "# Connect to Hopsworks\n",
    "project = hopsworks.login(api_key_value=HOPSWORKS_API_KEY)\n",
    "fs = project.get_feature_store()"
   ]
  },
  {
   "cell_type": "markdown",
   "metadata": {},
   "source": [
    "### --- Step 2: Load Data from the Feature group ---\n"
   ]
  },
  {
   "cell_type": "code",
   "execution_count": 2,
   "metadata": {},
   "outputs": [
    {
     "name": "stdout",
     "output_type": "stream",
     "text": [
      "2024-05-31 15:16:31,451 WARNING: DeprecationWarning: DatetimeTZBlock is deprecated and will be removed in a future version. Use public APIs instead.\n",
      "\n",
      "Finished: Reading data from Hopsworks, using Hopsworks Feature Query Service (1.02s) \n"
     ]
    },
    {
     "data": {
      "text/html": [
       "<div>\n",
       "<style scoped>\n",
       "    .dataframe tbody tr th:only-of-type {\n",
       "        vertical-align: middle;\n",
       "    }\n",
       "\n",
       "    .dataframe tbody tr th {\n",
       "        vertical-align: top;\n",
       "    }\n",
       "\n",
       "    .dataframe thead th {\n",
       "        text-align: right;\n",
       "    }\n",
       "</style>\n",
       "<table border=\"1\" class=\"dataframe\">\n",
       "  <thead>\n",
       "    <tr style=\"text-align: right;\">\n",
       "      <th></th>\n",
       "      <th>venue_name</th>\n",
       "      <th>venue_address</th>\n",
       "      <th>day</th>\n",
       "      <th>hour</th>\n",
       "      <th>busyness</th>\n",
       "      <th>last_updated</th>\n",
       "    </tr>\n",
       "  </thead>\n",
       "  <tbody>\n",
       "    <tr>\n",
       "      <th>0</th>\n",
       "      <td>All Bar One Tower Of London</td>\n",
       "      <td>14 Byward St, Greater, London EC3R 5BA, United...</td>\n",
       "      <td>Monday</td>\n",
       "      <td>19</td>\n",
       "      <td>Average</td>\n",
       "      <td>2024-05-31 09:05:59.051218+00:00</td>\n",
       "    </tr>\n",
       "    <tr>\n",
       "      <th>1</th>\n",
       "      <td>The Old School Yard</td>\n",
       "      <td>111 Long Ln, London SE1 4PH, United Kingdom</td>\n",
       "      <td>Tuesday</td>\n",
       "      <td>19</td>\n",
       "      <td>Low</td>\n",
       "      <td>2024-05-31 09:05:59.051218+00:00</td>\n",
       "    </tr>\n",
       "    <tr>\n",
       "      <th>2</th>\n",
       "      <td>The Two Bridges Ale House &amp; Kitchen</td>\n",
       "      <td>186 Tooley St, London SE1 2TZ, United Kingdom</td>\n",
       "      <td>Saturday</td>\n",
       "      <td>0</td>\n",
       "      <td>Average</td>\n",
       "      <td>2024-05-31 09:05:59.051218+00:00</td>\n",
       "    </tr>\n",
       "    <tr>\n",
       "      <th>3</th>\n",
       "      <td>The Kings Arms</td>\n",
       "      <td>251 Tooley St, London SE1 2JX, United Kingdom</td>\n",
       "      <td>Sunday</td>\n",
       "      <td>3</td>\n",
       "      <td>Closed</td>\n",
       "      <td>2024-05-31 09:05:59.051218+00:00</td>\n",
       "    </tr>\n",
       "    <tr>\n",
       "      <th>4</th>\n",
       "      <td>The Market Porter</td>\n",
       "      <td>9 Stoney St, London SE1 9AA, United Kingdom</td>\n",
       "      <td>Sunday</td>\n",
       "      <td>2</td>\n",
       "      <td>Closed</td>\n",
       "      <td>2024-05-31 09:05:59.051218+00:00</td>\n",
       "    </tr>\n",
       "  </tbody>\n",
       "</table>\n",
       "</div>"
      ],
      "text/plain": [
       "                            venue_name  \\\n",
       "0          All Bar One Tower Of London   \n",
       "1                  The Old School Yard   \n",
       "2  The Two Bridges Ale House & Kitchen   \n",
       "3                       The Kings Arms   \n",
       "4                    The Market Porter   \n",
       "\n",
       "                                       venue_address       day  hour busyness  \\\n",
       "0  14 Byward St, Greater, London EC3R 5BA, United...    Monday    19  Average   \n",
       "1        111 Long Ln, London SE1 4PH, United Kingdom   Tuesday    19      Low   \n",
       "2      186 Tooley St, London SE1 2TZ, United Kingdom  Saturday     0  Average   \n",
       "3      251 Tooley St, London SE1 2JX, United Kingdom    Sunday     3   Closed   \n",
       "4        9 Stoney St, London SE1 9AA, United Kingdom    Sunday     2   Closed   \n",
       "\n",
       "                      last_updated  \n",
       "0 2024-05-31 09:05:59.051218+00:00  \n",
       "1 2024-05-31 09:05:59.051218+00:00  \n",
       "2 2024-05-31 09:05:59.051218+00:00  \n",
       "3 2024-05-31 09:05:59.051218+00:00  \n",
       "4 2024-05-31 09:05:59.051218+00:00  "
      ]
     },
     "execution_count": 2,
     "metadata": {},
     "output_type": "execute_result"
    }
   ],
   "source": [
    "# Retrieve feature groups.\n",
    "fg = fs.get_feature_group(\n",
    "    name=FEATURE_GROUP_NAME, \n",
    "    version=FEATURE_GROUP_VERSION,\n",
    ")\n",
    "\n",
    "# Select features for training datasets\n",
    "df = fg.read()\n",
    "df.head(5)"
   ]
  },
  {
   "cell_type": "markdown",
   "metadata": {},
   "source": [
    "### --- Step 3: Process the Data ---"
   ]
  },
  {
   "cell_type": "code",
   "execution_count": 3,
   "metadata": {},
   "outputs": [
    {
     "data": {
      "text/html": [
       "<div>\n",
       "<style scoped>\n",
       "    .dataframe tbody tr th:only-of-type {\n",
       "        vertical-align: middle;\n",
       "    }\n",
       "\n",
       "    .dataframe tbody tr th {\n",
       "        vertical-align: top;\n",
       "    }\n",
       "\n",
       "    .dataframe thead th {\n",
       "        text-align: right;\n",
       "    }\n",
       "</style>\n",
       "<table border=\"1\" class=\"dataframe\">\n",
       "  <thead>\n",
       "    <tr style=\"text-align: right;\">\n",
       "      <th></th>\n",
       "      <th>venue_name</th>\n",
       "      <th>venue_address</th>\n",
       "      <th>day</th>\n",
       "      <th>hour</th>\n",
       "      <th>busyness</th>\n",
       "      <th>last_updated</th>\n",
       "    </tr>\n",
       "  </thead>\n",
       "  <tbody>\n",
       "    <tr>\n",
       "      <th>0</th>\n",
       "      <td>All Bar One Tower Of London</td>\n",
       "      <td>14 Byward St, Greater, London EC3R 5BA, United...</td>\n",
       "      <td>Monday</td>\n",
       "      <td>19</td>\n",
       "      <td>3</td>\n",
       "      <td>2024-05-31 09:05:59.051218+00:00</td>\n",
       "    </tr>\n",
       "    <tr>\n",
       "      <th>1</th>\n",
       "      <td>The Old School Yard</td>\n",
       "      <td>111 Long Ln, London SE1 4PH, United Kingdom</td>\n",
       "      <td>Tuesday</td>\n",
       "      <td>19</td>\n",
       "      <td>1</td>\n",
       "      <td>2024-05-31 09:05:59.051218+00:00</td>\n",
       "    </tr>\n",
       "    <tr>\n",
       "      <th>2</th>\n",
       "      <td>The Two Bridges Ale House &amp; Kitchen</td>\n",
       "      <td>186 Tooley St, London SE1 2TZ, United Kingdom</td>\n",
       "      <td>Saturday</td>\n",
       "      <td>0</td>\n",
       "      <td>3</td>\n",
       "      <td>2024-05-31 09:05:59.051218+00:00</td>\n",
       "    </tr>\n",
       "    <tr>\n",
       "      <th>3</th>\n",
       "      <td>The Kings Arms</td>\n",
       "      <td>251 Tooley St, London SE1 2JX, United Kingdom</td>\n",
       "      <td>Sunday</td>\n",
       "      <td>3</td>\n",
       "      <td>0</td>\n",
       "      <td>2024-05-31 09:05:59.051218+00:00</td>\n",
       "    </tr>\n",
       "    <tr>\n",
       "      <th>4</th>\n",
       "      <td>The Market Porter</td>\n",
       "      <td>9 Stoney St, London SE1 9AA, United Kingdom</td>\n",
       "      <td>Sunday</td>\n",
       "      <td>2</td>\n",
       "      <td>0</td>\n",
       "      <td>2024-05-31 09:05:59.051218+00:00</td>\n",
       "    </tr>\n",
       "  </tbody>\n",
       "</table>\n",
       "</div>"
      ],
      "text/plain": [
       "                            venue_name  \\\n",
       "0          All Bar One Tower Of London   \n",
       "1                  The Old School Yard   \n",
       "2  The Two Bridges Ale House & Kitchen   \n",
       "3                       The Kings Arms   \n",
       "4                    The Market Porter   \n",
       "\n",
       "                                       venue_address       day  hour  \\\n",
       "0  14 Byward St, Greater, London EC3R 5BA, United...    Monday    19   \n",
       "1        111 Long Ln, London SE1 4PH, United Kingdom   Tuesday    19   \n",
       "2      186 Tooley St, London SE1 2TZ, United Kingdom  Saturday     0   \n",
       "3      251 Tooley St, London SE1 2JX, United Kingdom    Sunday     3   \n",
       "4        9 Stoney St, London SE1 9AA, United Kingdom    Sunday     2   \n",
       "\n",
       "   busyness                     last_updated  \n",
       "0         3 2024-05-31 09:05:59.051218+00:00  \n",
       "1         1 2024-05-31 09:05:59.051218+00:00  \n",
       "2         3 2024-05-31 09:05:59.051218+00:00  \n",
       "3         0 2024-05-31 09:05:59.051218+00:00  \n",
       "4         0 2024-05-31 09:05:59.051218+00:00  "
      ]
     },
     "execution_count": 3,
     "metadata": {},
     "output_type": "execute_result"
    }
   ],
   "source": [
    "# Map categorical values of 'busyness' to numeric values\n",
    "busyness_mapping = {'Closed': 0, 'Low': 1, 'Below average':2, 'Average': 3, 'Above average':4, 'High': 5}\n",
    "df['busyness'] = df['busyness'].map(busyness_mapping)\n",
    "\n",
    "# Load transformation functions from the feature store\n",
    "min_max_scaler = fs.get_transformation_function(name=\"min_max_scaler\")\n",
    "label_encoder = fs.get_transformation_function(name=\"label_encoder\")\n",
    "\n",
    "# Define numerical and categorical features\n",
    "numerical_features = [\"hour\"]\n",
    "categorical_features = [\"venue_name\", \"venue_address\", \"day\"]\n",
    "\n",
    "# Map features to transformation functions\n",
    "transformation_functions = {}\n",
    "for feature in numerical_features:\n",
    "    transformation_functions[feature] = min_max_scaler\n",
    "for feature in categorical_features:\n",
    "    transformation_functions[feature] = label_encoder\n",
    "\n",
    "df.head(5)"
   ]
  },
  {
   "cell_type": "markdown",
   "metadata": {},
   "source": [
    "### --- Step 4: Create the feature view ---"
   ]
  },
  {
   "cell_type": "code",
   "execution_count": 4,
   "metadata": {},
   "outputs": [
    {
     "name": "stdout",
     "output_type": "stream",
     "text": [
      "Feature view created successfully, explore it at \n",
      "https://c.app.hopsworks.ai:443/p/25749/fs/25669/fv/busyness_feature_view/version/1\n"
     ]
    }
   ],
   "source": [
    "feature_view = fs.get_or_create_feature_view(\n",
    "    name='busyness_feature_view',\n",
    "    version=1,\n",
    "    query=fg.select_all(),\n",
    "    labels=[\"busyness\"],\n",
    "    transformation_functions=transformation_functions,\n",
    ")"
   ]
  },
  {
   "cell_type": "markdown",
   "metadata": {},
   "source": [
    "### --- Step 5: Create the training dataset ---"
   ]
  },
  {
   "cell_type": "code",
   "execution_count": 7,
   "metadata": {},
   "outputs": [
    {
     "name": "stdout",
     "output_type": "stream",
     "text": [
      "2024-05-31 15:27:30,017 WARNING: DeprecationWarning: DatetimeTZBlock is deprecated and will be removed in a future version. Use public APIs instead.\n",
      "\n",
      "Finished: Reading data from Hopsworks, using Hopsworks Feature Query Service (3.39s) \n",
      "2024-05-31 15:27:32,704 WARNING: VersionWarning: Incremented version to `1`.\n",
      "\n"
     ]
    },
    {
     "ename": "KeyError",
     "evalue": "'busyness'",
     "output_type": "error",
     "traceback": [
      "\u001b[0;31m---------------------------------------------------------------------------\u001b[0m",
      "\u001b[0;31mKeyError\u001b[0m                                  Traceback (most recent call last)",
      "File \u001b[0;32m/opt/homebrew/Caskroom/miniforge/base/envs/python31012/lib/python3.10/site-packages/pandas/core/indexes/base.py:3805\u001b[0m, in \u001b[0;36mIndex.get_loc\u001b[0;34m(self, key)\u001b[0m\n\u001b[1;32m   3804\u001b[0m \u001b[38;5;28;01mtry\u001b[39;00m:\n\u001b[0;32m-> 3805\u001b[0m     \u001b[38;5;28;01mreturn\u001b[39;00m \u001b[38;5;28;43mself\u001b[39;49m\u001b[38;5;241;43m.\u001b[39;49m\u001b[43m_engine\u001b[49m\u001b[38;5;241;43m.\u001b[39;49m\u001b[43mget_loc\u001b[49m\u001b[43m(\u001b[49m\u001b[43mcasted_key\u001b[49m\u001b[43m)\u001b[49m\n\u001b[1;32m   3806\u001b[0m \u001b[38;5;28;01mexcept\u001b[39;00m \u001b[38;5;167;01mKeyError\u001b[39;00m \u001b[38;5;28;01mas\u001b[39;00m err:\n",
      "File \u001b[0;32mindex.pyx:167\u001b[0m, in \u001b[0;36mpandas._libs.index.IndexEngine.get_loc\u001b[0;34m()\u001b[0m\n",
      "File \u001b[0;32mindex.pyx:196\u001b[0m, in \u001b[0;36mpandas._libs.index.IndexEngine.get_loc\u001b[0;34m()\u001b[0m\n",
      "File \u001b[0;32mpandas/_libs/hashtable_class_helper.pxi:7081\u001b[0m, in \u001b[0;36mpandas._libs.hashtable.PyObjectHashTable.get_item\u001b[0;34m()\u001b[0m\n",
      "File \u001b[0;32mpandas/_libs/hashtable_class_helper.pxi:7089\u001b[0m, in \u001b[0;36mpandas._libs.hashtable.PyObjectHashTable.get_item\u001b[0;34m()\u001b[0m\n",
      "\u001b[0;31mKeyError\u001b[0m: 'busyness'",
      "\nThe above exception was the direct cause of the following exception:\n",
      "\u001b[0;31mKeyError\u001b[0m                                  Traceback (most recent call last)",
      "Cell \u001b[0;32mIn[7], line 13\u001b[0m\n\u001b[1;32m     10\u001b[0m X_test\u001b[38;5;241m.\u001b[39mdrop([\u001b[38;5;124m'\u001b[39m\u001b[38;5;124mvenue_address\u001b[39m\u001b[38;5;124m'\u001b[39m, \u001b[38;5;124m'\u001b[39m\u001b[38;5;124mlast_updated\u001b[39m\u001b[38;5;124m'\u001b[39m], axis\u001b[38;5;241m=\u001b[39m\u001b[38;5;241m1\u001b[39m, inplace\u001b[38;5;241m=\u001b[39m\u001b[38;5;28;01mTrue\u001b[39;00m)\n\u001b[1;32m     12\u001b[0m \u001b[38;5;66;03m# Add the popularity_score feature to the training, validation, and test sets\u001b[39;00m\n\u001b[0;32m---> 13\u001b[0m X_train[\u001b[38;5;124m'\u001b[39m\u001b[38;5;124mpopularity_score\u001b[39m\u001b[38;5;124m'\u001b[39m] \u001b[38;5;241m=\u001b[39m \u001b[43mX_train\u001b[49m\u001b[43m[\u001b[49m\u001b[38;5;124;43m'\u001b[39;49m\u001b[38;5;124;43mbusyness\u001b[39;49m\u001b[38;5;124;43m'\u001b[39;49m\u001b[43m]\u001b[49m\u001b[38;5;241m.\u001b[39mrolling(window\u001b[38;5;241m=\u001b[39m\u001b[38;5;241m3\u001b[39m, min_periods\u001b[38;5;241m=\u001b[39m\u001b[38;5;241m1\u001b[39m)\u001b[38;5;241m.\u001b[39mmean()\n\u001b[1;32m     14\u001b[0m X_val[\u001b[38;5;124m'\u001b[39m\u001b[38;5;124mpopularity_score\u001b[39m\u001b[38;5;124m'\u001b[39m] \u001b[38;5;241m=\u001b[39m X_val[\u001b[38;5;124m'\u001b[39m\u001b[38;5;124mbusyness\u001b[39m\u001b[38;5;124m'\u001b[39m]\u001b[38;5;241m.\u001b[39mrolling(window\u001b[38;5;241m=\u001b[39m\u001b[38;5;241m3\u001b[39m, min_periods\u001b[38;5;241m=\u001b[39m\u001b[38;5;241m1\u001b[39m)\u001b[38;5;241m.\u001b[39mmean()\n\u001b[1;32m     15\u001b[0m X_test[\u001b[38;5;124m'\u001b[39m\u001b[38;5;124mpopularity_score\u001b[39m\u001b[38;5;124m'\u001b[39m] \u001b[38;5;241m=\u001b[39m X_test[\u001b[38;5;124m'\u001b[39m\u001b[38;5;124mbusyness\u001b[39m\u001b[38;5;124m'\u001b[39m]\u001b[38;5;241m.\u001b[39mrolling(window\u001b[38;5;241m=\u001b[39m\u001b[38;5;241m3\u001b[39m, min_periods\u001b[38;5;241m=\u001b[39m\u001b[38;5;241m1\u001b[39m)\u001b[38;5;241m.\u001b[39mmean()\n",
      "File \u001b[0;32m/opt/homebrew/Caskroom/miniforge/base/envs/python31012/lib/python3.10/site-packages/pandas/core/frame.py:4090\u001b[0m, in \u001b[0;36mDataFrame.__getitem__\u001b[0;34m(self, key)\u001b[0m\n\u001b[1;32m   4088\u001b[0m \u001b[38;5;28;01mif\u001b[39;00m \u001b[38;5;28mself\u001b[39m\u001b[38;5;241m.\u001b[39mcolumns\u001b[38;5;241m.\u001b[39mnlevels \u001b[38;5;241m>\u001b[39m \u001b[38;5;241m1\u001b[39m:\n\u001b[1;32m   4089\u001b[0m     \u001b[38;5;28;01mreturn\u001b[39;00m \u001b[38;5;28mself\u001b[39m\u001b[38;5;241m.\u001b[39m_getitem_multilevel(key)\n\u001b[0;32m-> 4090\u001b[0m indexer \u001b[38;5;241m=\u001b[39m \u001b[38;5;28;43mself\u001b[39;49m\u001b[38;5;241;43m.\u001b[39;49m\u001b[43mcolumns\u001b[49m\u001b[38;5;241;43m.\u001b[39;49m\u001b[43mget_loc\u001b[49m\u001b[43m(\u001b[49m\u001b[43mkey\u001b[49m\u001b[43m)\u001b[49m\n\u001b[1;32m   4091\u001b[0m \u001b[38;5;28;01mif\u001b[39;00m is_integer(indexer):\n\u001b[1;32m   4092\u001b[0m     indexer \u001b[38;5;241m=\u001b[39m [indexer]\n",
      "File \u001b[0;32m/opt/homebrew/Caskroom/miniforge/base/envs/python31012/lib/python3.10/site-packages/pandas/core/indexes/base.py:3812\u001b[0m, in \u001b[0;36mIndex.get_loc\u001b[0;34m(self, key)\u001b[0m\n\u001b[1;32m   3807\u001b[0m     \u001b[38;5;28;01mif\u001b[39;00m \u001b[38;5;28misinstance\u001b[39m(casted_key, \u001b[38;5;28mslice\u001b[39m) \u001b[38;5;129;01mor\u001b[39;00m (\n\u001b[1;32m   3808\u001b[0m         \u001b[38;5;28misinstance\u001b[39m(casted_key, abc\u001b[38;5;241m.\u001b[39mIterable)\n\u001b[1;32m   3809\u001b[0m         \u001b[38;5;129;01mand\u001b[39;00m \u001b[38;5;28many\u001b[39m(\u001b[38;5;28misinstance\u001b[39m(x, \u001b[38;5;28mslice\u001b[39m) \u001b[38;5;28;01mfor\u001b[39;00m x \u001b[38;5;129;01min\u001b[39;00m casted_key)\n\u001b[1;32m   3810\u001b[0m     ):\n\u001b[1;32m   3811\u001b[0m         \u001b[38;5;28;01mraise\u001b[39;00m InvalidIndexError(key)\n\u001b[0;32m-> 3812\u001b[0m     \u001b[38;5;28;01mraise\u001b[39;00m \u001b[38;5;167;01mKeyError\u001b[39;00m(key) \u001b[38;5;28;01mfrom\u001b[39;00m \u001b[38;5;21;01merr\u001b[39;00m\n\u001b[1;32m   3813\u001b[0m \u001b[38;5;28;01mexcept\u001b[39;00m \u001b[38;5;167;01mTypeError\u001b[39;00m:\n\u001b[1;32m   3814\u001b[0m     \u001b[38;5;66;03m# If we have a listlike key, _check_indexing_error will raise\u001b[39;00m\n\u001b[1;32m   3815\u001b[0m     \u001b[38;5;66;03m#  InvalidIndexError. Otherwise we fall through and re-raise\u001b[39;00m\n\u001b[1;32m   3816\u001b[0m     \u001b[38;5;66;03m#  the TypeError.\u001b[39;00m\n\u001b[1;32m   3817\u001b[0m     \u001b[38;5;28mself\u001b[39m\u001b[38;5;241m.\u001b[39m_check_indexing_error(key)\n",
      "\u001b[0;31mKeyError\u001b[0m: 'busyness'"
     ]
    }
   ],
   "source": [
    "# Split data into training, validation, and test sets\n",
    "X_train, X_val, X_test, y_train, y_val, y_test = feature_view.train_validation_test_split(\n",
    "    validation_size=0.2,\n",
    "    test_size=0.1,\n",
    ")\n",
    "\n",
    "# Drop unnecessary columns\n",
    "X_train.drop(['venue_address', 'last_updated'], axis=1, inplace=True)\n",
    "X_val.drop(['venue_address', 'last_updated'], axis=1, inplace=True)\n",
    "X_test.drop(['venue_address', 'last_updated'], axis=1, inplace=True)\n",
    "\n",
    "# Add the popularity_score feature to the training, validation, and test sets\n",
    "X_train['popularity_score'] = X_train['busyness'].rolling(window=3, min_periods=1).mean()\n",
    "X_val['popularity_score'] = X_val['busyness'].rolling(window=3, min_periods=1).mean()\n",
    "X_test['popularity_score'] = X_test['busyness'].rolling(window=3, min_periods=1).mean()\n",
    "\n"
   ]
  },
  {
   "cell_type": "markdown",
   "metadata": {},
   "source": [
    "### --- Step 6: Train amd evaluate the model ---"
   ]
  },
  {
   "cell_type": "code",
   "execution_count": null,
   "metadata": {},
   "outputs": [
    {
     "ename": "NameError",
     "evalue": "name 'X_train' is not defined",
     "output_type": "error",
     "traceback": [
      "\u001b[0;31m---------------------------------------------------------------------------\u001b[0m",
      "\u001b[0;31mNameError\u001b[0m                                 Traceback (most recent call last)",
      "Cell \u001b[0;32mIn[6], line 4\u001b[0m\n\u001b[1;32m      2\u001b[0m \u001b[38;5;66;03m# Create an instance of the XGBClassifier \u001b[39;00m\n\u001b[1;32m      3\u001b[0m model \u001b[38;5;241m=\u001b[39m xgb\u001b[38;5;241m.\u001b[39mXGBClassifier()\n\u001b[0;32m----> 4\u001b[0m model\u001b[38;5;241m.\u001b[39mfit(\u001b[43mX_train\u001b[49m, y_train)\n\u001b[1;32m      6\u001b[0m \u001b[38;5;66;03m# Predict and evaluate\u001b[39;00m\n\u001b[1;32m      7\u001b[0m y_pred_train \u001b[38;5;241m=\u001b[39m model\u001b[38;5;241m.\u001b[39mpredict(X_train)\n",
      "\u001b[0;31mNameError\u001b[0m: name 'X_train' is not defined"
     ]
    }
   ],
   "source": [
    "from sklearn.metrics import mean_squared_error, f1_score, confusion_matrix\n",
    "\n",
    "# Create an instance of the XGBClassifier \n",
    "model = xgb.XGBClassifier()\n",
    "model.fit(X_train, y_train)\n",
    "\n",
    "# Predict and evaluate\n",
    "y_pred_train = model.predict(X_train)\n",
    "y_pred_val = model.predict(X_val)\n",
    "y_pred_test = model.predict(X_test)\n",
    "\n",
    "# Compute metrics\n",
    "metrics = {\"f1_score\": f1_score(y_test, y_pred_test, average='macro')}\n",
    "print(metrics)\n",
    "\n",
    "# Confusion matrix\n",
    "results = confusion_matrix(y_test, y_pred_test, labels=[0, 1])\n",
    "df_cm = pd.DataFrame(results, ['True Low', 'True High'], ['Pred Low', 'Pred High'])\n",
    "cm = sns.heatmap(df_cm, annot=True)\n",
    "cm.get_figure().show()\n"
   ]
  },
  {
   "cell_type": "code",
   "execution_count": null,
   "metadata": {},
   "outputs": [],
   "source": []
  }
 ],
 "metadata": {
  "kernelspec": {
   "display_name": "python31012",
   "language": "python",
   "name": "python3"
  },
  "language_info": {
   "codemirror_mode": {
    "name": "ipython",
    "version": 3
   },
   "file_extension": ".py",
   "mimetype": "text/x-python",
   "name": "python",
   "nbconvert_exporter": "python",
   "pygments_lexer": "ipython3",
   "version": "3.10.12"
  }
 },
 "nbformat": 4,
 "nbformat_minor": 2
}
