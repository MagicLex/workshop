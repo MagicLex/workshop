{
 "cells": [
  {
   "cell_type": "markdown",
   "metadata": {},
   "source": [
    "### --- Step 1: Setup and Imports ---\n"
   ]
  },
  {
   "cell_type": "code",
   "execution_count": 1,
   "metadata": {},
   "outputs": [
    {
     "name": "stdout",
     "output_type": "stream",
     "text": [
      "Connected. Call `.close()` to terminate connection gracefully.\n",
      "\n",
      "Logged in to project, explore it here https://c.app.hopsworks.ai:443/p/25749\n",
      "Connected. Call `.close()` to terminate connection gracefully.\n",
      "Connected. Call `.close()` to terminate connection gracefully.\n"
     ]
    }
   ],
   "source": [
    "import pandas as pd\n",
    "import numpy as np\n",
    "from sklearn.model_selection import train_test_split\n",
    "from sklearn.preprocessing import StandardScaler\n",
    "from sklearn.preprocessing import LabelEncoder\n",
    "from sklearn.metrics import mean_squared_error, f1_score, confusion_matrix\n",
    "from sklearn.model_selection import GridSearchCV\n",
    "import xgboost as xgb\n",
    "import seaborn as sns\n",
    "import matplotlib.pyplot as plt\n",
    "import hopsworks\n",
    "import exclude.key\n",
    "import os\n",
    "\n",
    "# Hopsworks\n",
    "HOPSWORKS_API_KEY = exclude.key.HOPSWORKS_API_KEY\n",
    "FEATURE_GROUP_NAME = \"bars_near_london_bridge\"\n",
    "FEATURE_GROUP_VERSION = 3\n",
    "FEATURE_VIEW_VERSION = 4\n",
    "\n",
    "# Connect to Hopsworks\n",
    "project = hopsworks.login(api_key_value=HOPSWORKS_API_KEY)\n",
    "fs = project.get_feature_store()\n",
    "mr = project.get_model_registry()\n"
   ]
  },
  {
   "cell_type": "markdown",
   "metadata": {},
   "source": [
    "### --- Step 2: Load Data from the Feature group ---\n"
   ]
  },
  {
   "cell_type": "code",
   "execution_count": 2,
   "metadata": {},
   "outputs": [
    {
     "name": "stdout",
     "output_type": "stream",
     "text": [
      "Finished: Reading data from Hopsworks, using Hopsworks Feature Query Service (2.29s) \n"
     ]
    },
    {
     "data": {
      "text/html": [
       "<div>\n",
       "<style scoped>\n",
       "    .dataframe tbody tr th:only-of-type {\n",
       "        vertical-align: middle;\n",
       "    }\n",
       "\n",
       "    .dataframe tbody tr th {\n",
       "        vertical-align: top;\n",
       "    }\n",
       "\n",
       "    .dataframe thead th {\n",
       "        text-align: right;\n",
       "    }\n",
       "</style>\n",
       "<table border=\"1\" class=\"dataframe\">\n",
       "  <thead>\n",
       "    <tr style=\"text-align: right;\">\n",
       "      <th></th>\n",
       "      <th>venue_name</th>\n",
       "      <th>venue_address</th>\n",
       "      <th>day</th>\n",
       "      <th>hour</th>\n",
       "      <th>busyness</th>\n",
       "      <th>busyness_numeric</th>\n",
       "      <th>popularity</th>\n",
       "      <th>last_updated</th>\n",
       "    </tr>\n",
       "  </thead>\n",
       "  <tbody>\n",
       "    <tr>\n",
       "      <th>0</th>\n",
       "      <td>Nine Lives</td>\n",
       "      <td>8 Holyrood St, London SE1 2EL, United Kingdom</td>\n",
       "      <td>Saturday</td>\n",
       "      <td>14</td>\n",
       "      <td>Closed</td>\n",
       "      <td>0</td>\n",
       "      <td>0.438710</td>\n",
       "      <td>2024-06-07 11:16:35.099076+00:00</td>\n",
       "    </tr>\n",
       "    <tr>\n",
       "      <th>1</th>\n",
       "      <td>The Hung Drawn &amp; Quartered, EC3</td>\n",
       "      <td>26-27 Great Tower St, London EC3R 5AQ, United ...</td>\n",
       "      <td>Saturday</td>\n",
       "      <td>7</td>\n",
       "      <td>Closed</td>\n",
       "      <td>0</td>\n",
       "      <td>0.716129</td>\n",
       "      <td>2024-06-07 11:16:35.099076+00:00</td>\n",
       "    </tr>\n",
       "    <tr>\n",
       "      <th>2</th>\n",
       "      <td>El Vino London Bridge</td>\n",
       "      <td>5a More London Pl, London SE1 2BY, United Kingdom</td>\n",
       "      <td>Tuesday</td>\n",
       "      <td>23</td>\n",
       "      <td>Closed</td>\n",
       "      <td>0</td>\n",
       "      <td>0.625806</td>\n",
       "      <td>2024-06-07 11:16:35.099076+00:00</td>\n",
       "    </tr>\n",
       "    <tr>\n",
       "      <th>3</th>\n",
       "      <td>The Bridge Tap, London</td>\n",
       "      <td>32 Borough High St, London SE1 1XU, United Kin...</td>\n",
       "      <td>Tuesday</td>\n",
       "      <td>6</td>\n",
       "      <td>Closed</td>\n",
       "      <td>0</td>\n",
       "      <td>0.858065</td>\n",
       "      <td>2024-06-07 11:16:35.099076+00:00</td>\n",
       "    </tr>\n",
       "    <tr>\n",
       "      <th>4</th>\n",
       "      <td>El Vino London Bridge</td>\n",
       "      <td>5a More London Pl, London SE1 2BY, United Kingdom</td>\n",
       "      <td>Wednesday</td>\n",
       "      <td>15</td>\n",
       "      <td>Average</td>\n",
       "      <td>3</td>\n",
       "      <td>0.625806</td>\n",
       "      <td>2024-06-07 11:16:35.099076+00:00</td>\n",
       "    </tr>\n",
       "  </tbody>\n",
       "</table>\n",
       "</div>"
      ],
      "text/plain": [
       "                        venue_name  \\\n",
       "0                       Nine Lives   \n",
       "1  The Hung Drawn & Quartered, EC3   \n",
       "2            El Vino London Bridge   \n",
       "3           The Bridge Tap, London   \n",
       "4            El Vino London Bridge   \n",
       "\n",
       "                                       venue_address        day  hour  \\\n",
       "0      8 Holyrood St, London SE1 2EL, United Kingdom   Saturday    14   \n",
       "1  26-27 Great Tower St, London EC3R 5AQ, United ...   Saturday     7   \n",
       "2  5a More London Pl, London SE1 2BY, United Kingdom    Tuesday    23   \n",
       "3  32 Borough High St, London SE1 1XU, United Kin...    Tuesday     6   \n",
       "4  5a More London Pl, London SE1 2BY, United Kingdom  Wednesday    15   \n",
       "\n",
       "  busyness  busyness_numeric  popularity                     last_updated  \n",
       "0   Closed                 0    0.438710 2024-06-07 11:16:35.099076+00:00  \n",
       "1   Closed                 0    0.716129 2024-06-07 11:16:35.099076+00:00  \n",
       "2   Closed                 0    0.625806 2024-06-07 11:16:35.099076+00:00  \n",
       "3   Closed                 0    0.858065 2024-06-07 11:16:35.099076+00:00  \n",
       "4  Average                 3    0.625806 2024-06-07 11:16:35.099076+00:00  "
      ]
     },
     "execution_count": 2,
     "metadata": {},
     "output_type": "execute_result"
    }
   ],
   "source": [
    "# Retrieve feature groups.\n",
    "fg = fs.get_feature_group(\n",
    "    name=FEATURE_GROUP_NAME, \n",
    "    version=FEATURE_GROUP_VERSION,\n",
    ")\n",
    "\n",
    "# Select features for training datasets\n",
    "df = fg.read()\n",
    "df.head(5)"
   ]
  },
  {
   "cell_type": "markdown",
   "metadata": {},
   "source": [
    "### --- Step 3: Process the Data ---"
   ]
  },
  {
   "cell_type": "code",
   "execution_count": 3,
   "metadata": {},
   "outputs": [
    {
     "data": {
      "text/html": [
       "<div>\n",
       "<style scoped>\n",
       "    .dataframe tbody tr th:only-of-type {\n",
       "        vertical-align: middle;\n",
       "    }\n",
       "\n",
       "    .dataframe tbody tr th {\n",
       "        vertical-align: top;\n",
       "    }\n",
       "\n",
       "    .dataframe thead th {\n",
       "        text-align: right;\n",
       "    }\n",
       "</style>\n",
       "<table border=\"1\" class=\"dataframe\">\n",
       "  <thead>\n",
       "    <tr style=\"text-align: right;\">\n",
       "      <th></th>\n",
       "      <th>venue_name</th>\n",
       "      <th>venue_address</th>\n",
       "      <th>day</th>\n",
       "      <th>hour</th>\n",
       "      <th>busyness</th>\n",
       "      <th>busyness_numeric</th>\n",
       "      <th>popularity</th>\n",
       "      <th>last_updated</th>\n",
       "    </tr>\n",
       "  </thead>\n",
       "  <tbody>\n",
       "    <tr>\n",
       "      <th>0</th>\n",
       "      <td>Nine Lives</td>\n",
       "      <td>8 Holyrood St, London SE1 2EL, United Kingdom</td>\n",
       "      <td>Saturday</td>\n",
       "      <td>14</td>\n",
       "      <td>Closed</td>\n",
       "      <td>0</td>\n",
       "      <td>0.438710</td>\n",
       "      <td>2024-06-07 11:16:35.099076+00:00</td>\n",
       "    </tr>\n",
       "    <tr>\n",
       "      <th>1</th>\n",
       "      <td>The Hung Drawn &amp; Quartered, EC3</td>\n",
       "      <td>26-27 Great Tower St, London EC3R 5AQ, United ...</td>\n",
       "      <td>Saturday</td>\n",
       "      <td>7</td>\n",
       "      <td>Closed</td>\n",
       "      <td>0</td>\n",
       "      <td>0.716129</td>\n",
       "      <td>2024-06-07 11:16:35.099076+00:00</td>\n",
       "    </tr>\n",
       "    <tr>\n",
       "      <th>2</th>\n",
       "      <td>El Vino London Bridge</td>\n",
       "      <td>5a More London Pl, London SE1 2BY, United Kingdom</td>\n",
       "      <td>Tuesday</td>\n",
       "      <td>23</td>\n",
       "      <td>Closed</td>\n",
       "      <td>0</td>\n",
       "      <td>0.625806</td>\n",
       "      <td>2024-06-07 11:16:35.099076+00:00</td>\n",
       "    </tr>\n",
       "    <tr>\n",
       "      <th>3</th>\n",
       "      <td>The Bridge Tap, London</td>\n",
       "      <td>32 Borough High St, London SE1 1XU, United Kin...</td>\n",
       "      <td>Tuesday</td>\n",
       "      <td>6</td>\n",
       "      <td>Closed</td>\n",
       "      <td>0</td>\n",
       "      <td>0.858065</td>\n",
       "      <td>2024-06-07 11:16:35.099076+00:00</td>\n",
       "    </tr>\n",
       "    <tr>\n",
       "      <th>4</th>\n",
       "      <td>El Vino London Bridge</td>\n",
       "      <td>5a More London Pl, London SE1 2BY, United Kingdom</td>\n",
       "      <td>Wednesday</td>\n",
       "      <td>15</td>\n",
       "      <td>Average</td>\n",
       "      <td>3</td>\n",
       "      <td>0.625806</td>\n",
       "      <td>2024-06-07 11:16:35.099076+00:00</td>\n",
       "    </tr>\n",
       "  </tbody>\n",
       "</table>\n",
       "</div>"
      ],
      "text/plain": [
       "                        venue_name  \\\n",
       "0                       Nine Lives   \n",
       "1  The Hung Drawn & Quartered, EC3   \n",
       "2            El Vino London Bridge   \n",
       "3           The Bridge Tap, London   \n",
       "4            El Vino London Bridge   \n",
       "\n",
       "                                       venue_address        day  hour  \\\n",
       "0      8 Holyrood St, London SE1 2EL, United Kingdom   Saturday    14   \n",
       "1  26-27 Great Tower St, London EC3R 5AQ, United ...   Saturday     7   \n",
       "2  5a More London Pl, London SE1 2BY, United Kingdom    Tuesday    23   \n",
       "3  32 Borough High St, London SE1 1XU, United Kin...    Tuesday     6   \n",
       "4  5a More London Pl, London SE1 2BY, United Kingdom  Wednesday    15   \n",
       "\n",
       "  busyness  busyness_numeric  popularity                     last_updated  \n",
       "0   Closed                 0    0.438710 2024-06-07 11:16:35.099076+00:00  \n",
       "1   Closed                 0    0.716129 2024-06-07 11:16:35.099076+00:00  \n",
       "2   Closed                 0    0.625806 2024-06-07 11:16:35.099076+00:00  \n",
       "3   Closed                 0    0.858065 2024-06-07 11:16:35.099076+00:00  \n",
       "4  Average                 3    0.625806 2024-06-07 11:16:35.099076+00:00  "
      ]
     },
     "execution_count": 3,
     "metadata": {},
     "output_type": "execute_result"
    }
   ],
   "source": [
    "# Load transformation functions from the feature store\n",
    "min_max_scaler = fs.get_transformation_function(name=\"min_max_scaler\")\n",
    "label_encoder = fs.get_transformation_function(name=\"label_encoder\")\n",
    "\n",
    "# Define numerical and categorical features\n",
    "numerical_features = [\"hour\"]\n",
    "categorical_features = [\"day\"]\n",
    "\n",
    "# Map features to transformation functions\n",
    "transformation_functions = {}\n",
    "for feature in numerical_features:\n",
    "    transformation_functions[feature] = min_max_scaler\n",
    "for feature in categorical_features:\n",
    "    transformation_functions[feature] = label_encoder\n",
    "\n",
    "df.head(5)"
   ]
  },
  {
   "cell_type": "markdown",
   "metadata": {},
   "source": [
    "### --- Step 4: Create the feature view ---"
   ]
  },
  {
   "cell_type": "code",
   "execution_count": 4,
   "metadata": {},
   "outputs": [],
   "source": [
    "query = fg.select_except(['busyness','venue_address','venue_name','last_updated','busyness'])\n",
    "\n",
    "feature_view = fs.get_or_create_feature_view(\n",
    "    name='busyness_feature_view',\n",
    "    version=FEATURE_VIEW_VERSION,\n",
    "    query=query,\n",
    "    labels=[\"busyness_numeric\"],\n",
    "    transformation_functions=transformation_functions,\n",
    ")\n",
    "\n",
    "# if the featureview is already created just retrieve it \n",
    "feature_view = fs.get_feature_view(name='busyness_feature_view', version=FEATURE_VIEW_VERSION)\n"
   ]
  },
  {
   "cell_type": "markdown",
   "metadata": {},
   "source": [
    "### --- Step 5: Create the training dataset ---"
   ]
  },
  {
   "cell_type": "code",
   "execution_count": 6,
   "metadata": {},
   "outputs": [
    {
     "name": "stdout",
     "output_type": "stream",
     "text": [
      "Finished: Reading data from Hopsworks, using Hopsworks Feature Query Service (1.75s) \n",
      "2024-06-11 19:02:54,476 WARNING: VersionWarning: Incremented version to `7`.\n",
      "\n"
     ]
    },
    {
     "data": {
      "text/plain": [
       "(       day      hour  popularity\n",
       " 0        0  0.608696    0.438710\n",
       " 2        1  1.000000    0.625806\n",
       " 5        2  0.173913    0.764516\n",
       " 6        3  0.565217    1.000000\n",
       " 7        2  0.913043    0.651613\n",
       " ...    ...       ...         ...\n",
       " 15114    1  0.173913    0.615385\n",
       " 15115    2  0.956522    0.763314\n",
       " 15116    3  0.521739    1.000000\n",
       " 15117    4  0.000000    0.627219\n",
       " 15119    3  0.000000    0.917160\n",
       " \n",
       " [10584 rows x 3 columns],\n",
       "        day      hour  popularity\n",
       " 1        0  0.304348    0.716129\n",
       " 4        4  0.652174    0.625806\n",
       " 10       4  0.391304    0.651613\n",
       " 13       4  0.260870    0.912903\n",
       " 26       5  0.652174    0.812903\n",
       " ...    ...       ...         ...\n",
       " 15094    3  0.869565    0.917160\n",
       " 15110    5  0.173913    0.668639\n",
       " 15111    4  0.521739    1.000000\n",
       " 15113    6  0.173913    0.763314\n",
       " 15118    0  0.217391    0.642012\n",
       " \n",
       " [3024 rows x 3 columns],\n",
       "        day      hour  popularity\n",
       " 3        1  0.260870    0.858065\n",
       " 16       1  0.739130    0.858065\n",
       " 30       6  1.000000    0.900000\n",
       " 37       2  0.695652    0.993548\n",
       " 42       0  0.739130    0.564516\n",
       " ...    ...       ...         ...\n",
       " 15048    1  0.086957    0.710059\n",
       " 15049    3  0.478261    0.763314\n",
       " 15066    2  0.391304    0.423077\n",
       " 15084    0  0.130435    0.763314\n",
       " 15109    0  0.869565    1.000000\n",
       " \n",
       " [1512 rows x 3 columns],\n",
       "        busyness_numeric\n",
       " 0                     0\n",
       " 2                     0\n",
       " 5                     0\n",
       " 6                     3\n",
       " 7                     4\n",
       " ...                 ...\n",
       " 15114                 0\n",
       " 15115                 3\n",
       " 15116                 3\n",
       " 15117                 0\n",
       " 15119                 3\n",
       " \n",
       " [10584 rows x 1 columns],\n",
       "        busyness_numeric\n",
       " 1                     0\n",
       " 4                     3\n",
       " 10                    0\n",
       " 13                    0\n",
       " 26                    4\n",
       " ...                 ...\n",
       " 15094                 4\n",
       " 15110                 0\n",
       " 15111                 1\n",
       " 15113                 0\n",
       " 15118                 0\n",
       " \n",
       " [3024 rows x 1 columns],\n",
       "     busyness_numeric\n",
       " 3                  0\n",
       " 16                 3\n",
       " 30                 1)"
      ]
     },
     "execution_count": 6,
     "metadata": {},
     "output_type": "execute_result"
    }
   ],
   "source": [
    "# Split data into training, validation, and test sets\n",
    "X_train, X_val, X_test, y_train, y_val, y_test = feature_view.train_validation_test_split(\n",
    "    validation_size=0.2,\n",
    "    test_size=0.1,\n",
    ")\n",
    "\n",
    "X_train, X_val, X_test, y_train, y_val, y_test.head(3)"
   ]
  },
  {
   "cell_type": "markdown",
   "metadata": {},
   "source": [
    "### --- Step 6: Train and evaluate the model ---"
   ]
  },
  {
   "cell_type": "code",
   "execution_count": 7,
   "metadata": {},
   "outputs": [
    {
     "name": "stdout",
     "output_type": "stream",
     "text": [
      "Fitting 3 folds for each of 108 candidates, totalling 324 fits\n",
      "Best parameters: {'colsample_bytree': 1.0, 'learning_rate': 0.2, 'max_depth': 7, 'n_estimators': 200, 'subsample': 1.0}\n",
      "{'f1_score': 0.7866210413311863}\n",
      "2024-06-11 19:03:44,922 WARNING: UserWarning: FigureCanvasAgg is non-interactive, and thus cannot be shown\n",
      "\n"
     ]
    },
    {
     "data": {
      "image/png": "[encoded data removed]",
      "text/plain": [
       "<Figure size 640x480 with 2 Axes>"
      ]
     },
     "metadata": {},
     "output_type": "display_data"
    }
   ],
   "source": [
    "# Hyperparameter tuning using GridSearchCV\n",
    "param_grid = {\n",
    "    'n_estimators': [50, 100, 200],\n",
    "    'max_depth': [3, 5, 7],\n",
    "    'learning_rate': [0.01, 0.1, 0.2],\n",
    "    'subsample': [0.8, 1.0],\n",
    "    'colsample_bytree': [0.8, 1.0]\n",
    "}\n",
    "\n",
    "# Create an instance of the XGBClassifier\n",
    "model = xgb.XGBClassifier()\n",
    "\n",
    "# Use GridSearchCV to find the best hyperparameters\n",
    "grid_search = GridSearchCV(estimator=model, param_grid=param_grid, scoring='f1_macro', cv=3, n_jobs=-1, verbose=2)\n",
    "grid_search.fit(X_train, y_train)\n",
    "\n",
    "# Best parameters from GridSearchCV\n",
    "best_params = grid_search.best_params_\n",
    "print(f\"Best parameters: {best_params}\")\n",
    "\n",
    "# Train the model with the best parameters\n",
    "best_model = xgb.XGBClassifier(**best_params)\n",
    "best_model.fit(X_train, y_train)\n",
    "\n",
    "# Predict and evaluate\n",
    "y_pred_train = best_model.predict(X_train)\n",
    "y_pred_val = best_model.predict(X_val)\n",
    "y_pred_test = best_model.predict(X_test)\n",
    "\n",
    "# Compute metrics\n",
    "metrics = {\"f1_score\": f1_score(y_test, y_pred_test, average='macro')}\n",
    "print(metrics)\n",
    "\n",
    "# Confusion matrix\n",
    "results = confusion_matrix(y_test, y_pred_test, labels=[0, 1])\n",
    "df_cm = pd.DataFrame(results, ['True Low', 'True High'], ['Pred Low', 'Pred High'])\n",
    "cm = sns.heatmap(df_cm, annot=True)\n",
    "cm.get_figure().show()\n",
    "fig = cm.get_figure()\n",
    "\n"
   ]
  },
  {
   "cell_type": "markdown",
   "metadata": {},
   "source": [
    "### --- Step 7: Save the model ---"
   ]
  },
  {
   "cell_type": "code",
   "execution_count": 8,
   "metadata": {},
   "outputs": [
    {
     "data": {
      "text/plain": [
       "{'input_schema': {'columnar_schema': [{'name': 'day', 'type': 'Int32'},\n",
       "   {'name': 'hour', 'type': 'float64'},\n",
       "   {'name': 'popularity', 'type': 'float64'}]},\n",
       " 'output_schema': {'columnar_schema': [{'name': 'busyness_numeric',\n",
       "    'type': 'int64'}]}}"
      ]
     },
     "execution_count": 8,
     "metadata": {},
     "output_type": "execute_result"
    }
   ],
   "source": [
    "from hsml.schema import Schema\n",
    "from hsml.model_schema import ModelSchema\n",
    "import joblib\n",
    "\n",
    "# Create a Schema for the input features\n",
    "input_schema = Schema(X_train)\n",
    "\n",
    "# Create a Schema for the output labels\n",
    "output_schema = Schema(y_train)\n",
    "\n",
    "# Create a ModelSchema using the input and output schemas\n",
    "model_schema = ModelSchema(\n",
    "    input_schema=input_schema, \n",
    "    output_schema=output_schema,\n",
    ")\n",
    "\n",
    "# Convert the ModelSchema to a dictionary representation\n",
    "model_schema.to_dict()"
   ]
  },
  {
   "cell_type": "code",
   "execution_count": 9,
   "metadata": {},
   "outputs": [],
   "source": [
    "# Define the directory name for the model registry\n",
    "model_dir = \"busyness_model\"\n",
    "\n",
    "# Check if the directory exists, and create it if not\n",
    "if not os.path.isdir(model_dir):\n",
    "    os.mkdir(model_dir)\n",
    "\n",
    "# Save the trained XGBoost model to a file within the model directory\n",
    "joblib.dump(model, f\"{model_dir}/xgboost_busyness.pkl\")\n",
    "\n",
    "# Save the confusion matrix plot to an image file within the model directory\n",
    "fig.savefig(f\"{model_dir}/confusion_matrix.png\")\n"
   ]
  },
  {
   "cell_type": "code",
   "execution_count": 10,
   "metadata": {},
   "outputs": [
    {
     "name": "stdout",
     "output_type": "stream",
     "text": [
      "Connected. Call `.close()` to terminate connection gracefully.\n"
     ]
    },
    {
     "data": {
      "application/vnd.jupyter.widget-view+json": {
       "model_id": "24b3115cacc44533a279764839b6b159",
       "version_major": 2,
       "version_minor": 0
      },
      "text/plain": [
       "  0%|          | 0/6 [00:00<?, ?it/s]"
      ]
     },
     "metadata": {},
     "output_type": "display_data"
    },
    {
     "data": {
      "application/vnd.jupyter.widget-view+json": {
       "model_id": "aecd5acc48c945b390de43763564ba75",
       "version_major": 2,
       "version_minor": 0
      },
      "text/plain": [
       "Uploading: 0.000%|          | 0/16359 elapsed<00:00 remaining<?"
      ]
     },
     "metadata": {},
     "output_type": "display_data"
    },
    {
     "data": {
      "application/vnd.jupyter.widget-view+json": {
       "model_id": "bb57511c754c4179a91114a115f69d59",
       "version_major": 2,
       "version_minor": 0
      },
      "text/plain": [
       "Uploading: 0.000%|          | 0/733 elapsed<00:00 remaining<?"
      ]
     },
     "metadata": {},
     "output_type": "display_data"
    },
    {
     "data": {
      "application/vnd.jupyter.widget-view+json": {
       "model_id": "5473edee8a0241988e304b06ff93164c",
       "version_major": 2,
       "version_minor": 0
      },
      "text/plain": [
       "Uploading: 0.000%|          | 0/394 elapsed<00:00 remaining<?"
      ]
     },
     "metadata": {},
     "output_type": "display_data"
    },
    {
     "name": "stdout",
     "output_type": "stream",
     "text": [
      "Model created, explore it at https://c.app.hopsworks.ai:443/p/25749/models/xgboost_busyness/3\n"
     ]
    },
    {
     "data": {
      "text/plain": [
       "Model(name: 'xgboost_busyness', version: 3)"
      ]
     },
     "execution_count": 10,
     "metadata": {},
     "output_type": "execute_result"
    }
   ],
   "source": [
    "# Get the model registry\n",
    "mr = project.get_model_registry()\n",
    "\n",
    "# Create a Python model in the model registry\n",
    "busyness_model = mr.python.create_model(\n",
    "    name=\"xgboost_busyness\", \n",
    "    metrics=metrics,                     # Specify the metrics used to evaluate the model\n",
    "    model_schema=model_schema,           # Provide the model schema\n",
    "    description=\"Busyness Model\",# Add a description for the model\n",
    ")\n",
    "\n",
    "# Save the model to the specified model directory\n",
    "busyness_model.save(model_dir)\n"
   ]
  },
  {
   "cell_type": "code",
   "execution_count": null,
   "metadata": {},
   "outputs": [],
   "source": []
  }
 ],
 "metadata": {
  "kernelspec": {
   "display_name": "Python 3 (ipykernel)",
   "language": "python",
   "name": "python3"
  },
  "language_info": {
   "codemirror_mode": {
    "name": "ipython",
    "version": 3
   },
   "file_extension": ".py",
   "mimetype": "text/x-python",
   "name": "python",
   "nbconvert_exporter": "python",
   "pygments_lexer": "ipython3",
   "version": "3.10.0"
  }
 },
 "nbformat": 4,
 "nbformat_minor": 4
}
