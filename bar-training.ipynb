{
 "cells": [
  {
   "cell_type": "markdown",
   "metadata": {},
   "source": [
    "### --- Step 1: Setup and Imports ---\n"
   ]
  },
  {
   "cell_type": "code",
   "execution_count": 26,
   "metadata": {},
   "outputs": [
    {
     "name": "stdout",
     "output_type": "stream",
     "text": [
      "Connection closed.\n",
      "Connected. Call `.close()` to terminate connection gracefully.\n",
      "\n",
      "Logged in to project, explore it here https://c.app.hopsworks.ai:443/p/25749\n",
      "Connected. Call `.close()` to terminate connection gracefully.\n"
     ]
    }
   ],
   "source": [
    "import pandas as pd\n",
    "import numpy as np\n",
    "from sklearn.model_selection import train_test_split\n",
    "from sklearn.preprocessing import StandardScaler\n",
    "from sklearn.preprocessing import LabelEncoder\n",
    "from sklearn.metrics import mean_squared_error, f1_score, confusion_matrix\n",
    "import xgboost as xgb\n",
    "import seaborn as sns\n",
    "import matplotlib.pyplot as plt\n",
    "import hopsworks\n",
    "import exclude.key\n",
    "\n",
    "# Hopsworks\n",
    "HOPSWORKS_API_KEY = exclude.key.HOPSWORKS_API_KEY\n",
    "FEATURE_GROUP_NAME = \"bars_near_london_bridge\"\n",
    "FEATURE_GROUP_VERSION = 3\n",
    "FEATURE_VIEW_VERSION = 4\n",
    "\n",
    "# Connect to Hopsworks\n",
    "project = hopsworks.login(api_key_value=HOPSWORKS_API_KEY)\n",
    "fs = project.get_feature_store()"
   ]
  },
  {
   "cell_type": "markdown",
   "metadata": {},
   "source": [
    "### --- Step 2: Load Data from the Feature group ---\n"
   ]
  },
  {
   "cell_type": "code",
   "execution_count": 27,
   "metadata": {},
   "outputs": [
    {
     "name": "stdout",
     "output_type": "stream",
     "text": [
      "2024-06-07 11:34:06,949 WARNING: DeprecationWarning: DatetimeTZBlock is deprecated and will be removed in a future version. Use public APIs instead.\n",
      "\n",
      "Finished: Reading data from Hopsworks, using Hopsworks Feature Query Service (1.41s) \n"
     ]
    },
    {
     "data": {
      "text/html": [
       "<div>\n",
       "<style scoped>\n",
       "    .dataframe tbody tr th:only-of-type {\n",
       "        vertical-align: middle;\n",
       "    }\n",
       "\n",
       "    .dataframe tbody tr th {\n",
       "        vertical-align: top;\n",
       "    }\n",
       "\n",
       "    .dataframe thead th {\n",
       "        text-align: right;\n",
       "    }\n",
       "</style>\n",
       "<table border=\"1\" class=\"dataframe\">\n",
       "  <thead>\n",
       "    <tr style=\"text-align: right;\">\n",
       "      <th></th>\n",
       "      <th>venue_name</th>\n",
       "      <th>venue_address</th>\n",
       "      <th>day</th>\n",
       "      <th>hour</th>\n",
       "      <th>busyness</th>\n",
       "      <th>busyness_numeric</th>\n",
       "      <th>popularity</th>\n",
       "      <th>last_updated</th>\n",
       "    </tr>\n",
       "  </thead>\n",
       "  <tbody>\n",
       "    <tr>\n",
       "      <th>0</th>\n",
       "      <td>Nine Lives</td>\n",
       "      <td>8 Holyrood St, London SE1 2EL, United Kingdom</td>\n",
       "      <td>Saturday</td>\n",
       "      <td>14</td>\n",
       "      <td>Closed</td>\n",
       "      <td>0</td>\n",
       "      <td>0.438710</td>\n",
       "      <td>2024-06-07 11:16:35.099076+00:00</td>\n",
       "    </tr>\n",
       "    <tr>\n",
       "      <th>1</th>\n",
       "      <td>The Hung Drawn &amp; Quartered, EC3</td>\n",
       "      <td>26-27 Great Tower St, London EC3R 5AQ, United ...</td>\n",
       "      <td>Saturday</td>\n",
       "      <td>7</td>\n",
       "      <td>Closed</td>\n",
       "      <td>0</td>\n",
       "      <td>0.716129</td>\n",
       "      <td>2024-06-07 11:16:35.099076+00:00</td>\n",
       "    </tr>\n",
       "    <tr>\n",
       "      <th>2</th>\n",
       "      <td>El Vino London Bridge</td>\n",
       "      <td>5a More London Pl, London SE1 2BY, United Kingdom</td>\n",
       "      <td>Tuesday</td>\n",
       "      <td>23</td>\n",
       "      <td>Closed</td>\n",
       "      <td>0</td>\n",
       "      <td>0.625806</td>\n",
       "      <td>2024-06-07 11:16:35.099076+00:00</td>\n",
       "    </tr>\n",
       "    <tr>\n",
       "      <th>3</th>\n",
       "      <td>The Bridge Tap, London</td>\n",
       "      <td>32 Borough High St, London SE1 1XU, United Kin...</td>\n",
       "      <td>Tuesday</td>\n",
       "      <td>6</td>\n",
       "      <td>Closed</td>\n",
       "      <td>0</td>\n",
       "      <td>0.858065</td>\n",
       "      <td>2024-06-07 11:16:35.099076+00:00</td>\n",
       "    </tr>\n",
       "    <tr>\n",
       "      <th>4</th>\n",
       "      <td>El Vino London Bridge</td>\n",
       "      <td>5a More London Pl, London SE1 2BY, United Kingdom</td>\n",
       "      <td>Wednesday</td>\n",
       "      <td>15</td>\n",
       "      <td>Average</td>\n",
       "      <td>3</td>\n",
       "      <td>0.625806</td>\n",
       "      <td>2024-06-07 11:16:35.099076+00:00</td>\n",
       "    </tr>\n",
       "  </tbody>\n",
       "</table>\n",
       "</div>"
      ],
      "text/plain": [
       "                        venue_name  \\\n",
       "0                       Nine Lives   \n",
       "1  The Hung Drawn & Quartered, EC3   \n",
       "2            El Vino London Bridge   \n",
       "3           The Bridge Tap, London   \n",
       "4            El Vino London Bridge   \n",
       "\n",
       "                                       venue_address        day  hour  \\\n",
       "0      8 Holyrood St, London SE1 2EL, United Kingdom   Saturday    14   \n",
       "1  26-27 Great Tower St, London EC3R 5AQ, United ...   Saturday     7   \n",
       "2  5a More London Pl, London SE1 2BY, United Kingdom    Tuesday    23   \n",
       "3  32 Borough High St, London SE1 1XU, United Kin...    Tuesday     6   \n",
       "4  5a More London Pl, London SE1 2BY, United Kingdom  Wednesday    15   \n",
       "\n",
       "  busyness  busyness_numeric  popularity                     last_updated  \n",
       "0   Closed                 0    0.438710 2024-06-07 11:16:35.099076+00:00  \n",
       "1   Closed                 0    0.716129 2024-06-07 11:16:35.099076+00:00  \n",
       "2   Closed                 0    0.625806 2024-06-07 11:16:35.099076+00:00  \n",
       "3   Closed                 0    0.858065 2024-06-07 11:16:35.099076+00:00  \n",
       "4  Average                 3    0.625806 2024-06-07 11:16:35.099076+00:00  "
      ]
     },
     "execution_count": 27,
     "metadata": {},
     "output_type": "execute_result"
    }
   ],
   "source": [
    "# Retrieve feature groups.\n",
    "fg = fs.get_feature_group(\n",
    "    name=FEATURE_GROUP_NAME, \n",
    "    version=FEATURE_GROUP_VERSION,\n",
    ")\n",
    "\n",
    "# Select features for training datasets\n",
    "df = fg.read()\n",
    "df.head(5)"
   ]
  },
  {
   "cell_type": "markdown",
   "metadata": {},
   "source": [
    "### --- Step 3: Process the Data ---"
   ]
  },
  {
   "cell_type": "code",
   "execution_count": 28,
   "metadata": {},
   "outputs": [
    {
     "data": {
      "text/html": [
       "<div>\n",
       "<style scoped>\n",
       "    .dataframe tbody tr th:only-of-type {\n",
       "        vertical-align: middle;\n",
       "    }\n",
       "\n",
       "    .dataframe tbody tr th {\n",
       "        vertical-align: top;\n",
       "    }\n",
       "\n",
       "    .dataframe thead th {\n",
       "        text-align: right;\n",
       "    }\n",
       "</style>\n",
       "<table border=\"1\" class=\"dataframe\">\n",
       "  <thead>\n",
       "    <tr style=\"text-align: right;\">\n",
       "      <th></th>\n",
       "      <th>venue_name</th>\n",
       "      <th>venue_address</th>\n",
       "      <th>day</th>\n",
       "      <th>hour</th>\n",
       "      <th>busyness</th>\n",
       "      <th>busyness_numeric</th>\n",
       "      <th>popularity</th>\n",
       "      <th>last_updated</th>\n",
       "    </tr>\n",
       "  </thead>\n",
       "  <tbody>\n",
       "    <tr>\n",
       "      <th>0</th>\n",
       "      <td>Nine Lives</td>\n",
       "      <td>8 Holyrood St, London SE1 2EL, United Kingdom</td>\n",
       "      <td>Saturday</td>\n",
       "      <td>14</td>\n",
       "      <td>Closed</td>\n",
       "      <td>0</td>\n",
       "      <td>0.438710</td>\n",
       "      <td>2024-06-07 11:16:35.099076+00:00</td>\n",
       "    </tr>\n",
       "    <tr>\n",
       "      <th>1</th>\n",
       "      <td>The Hung Drawn &amp; Quartered, EC3</td>\n",
       "      <td>26-27 Great Tower St, London EC3R 5AQ, United ...</td>\n",
       "      <td>Saturday</td>\n",
       "      <td>7</td>\n",
       "      <td>Closed</td>\n",
       "      <td>0</td>\n",
       "      <td>0.716129</td>\n",
       "      <td>2024-06-07 11:16:35.099076+00:00</td>\n",
       "    </tr>\n",
       "    <tr>\n",
       "      <th>2</th>\n",
       "      <td>El Vino London Bridge</td>\n",
       "      <td>5a More London Pl, London SE1 2BY, United Kingdom</td>\n",
       "      <td>Tuesday</td>\n",
       "      <td>23</td>\n",
       "      <td>Closed</td>\n",
       "      <td>0</td>\n",
       "      <td>0.625806</td>\n",
       "      <td>2024-06-07 11:16:35.099076+00:00</td>\n",
       "    </tr>\n",
       "    <tr>\n",
       "      <th>3</th>\n",
       "      <td>The Bridge Tap, London</td>\n",
       "      <td>32 Borough High St, London SE1 1XU, United Kin...</td>\n",
       "      <td>Tuesday</td>\n",
       "      <td>6</td>\n",
       "      <td>Closed</td>\n",
       "      <td>0</td>\n",
       "      <td>0.858065</td>\n",
       "      <td>2024-06-07 11:16:35.099076+00:00</td>\n",
       "    </tr>\n",
       "    <tr>\n",
       "      <th>4</th>\n",
       "      <td>El Vino London Bridge</td>\n",
       "      <td>5a More London Pl, London SE1 2BY, United Kingdom</td>\n",
       "      <td>Wednesday</td>\n",
       "      <td>15</td>\n",
       "      <td>Average</td>\n",
       "      <td>3</td>\n",
       "      <td>0.625806</td>\n",
       "      <td>2024-06-07 11:16:35.099076+00:00</td>\n",
       "    </tr>\n",
       "  </tbody>\n",
       "</table>\n",
       "</div>"
      ],
      "text/plain": [
       "                        venue_name  \\\n",
       "0                       Nine Lives   \n",
       "1  The Hung Drawn & Quartered, EC3   \n",
       "2            El Vino London Bridge   \n",
       "3           The Bridge Tap, London   \n",
       "4            El Vino London Bridge   \n",
       "\n",
       "                                       venue_address        day  hour  \\\n",
       "0      8 Holyrood St, London SE1 2EL, United Kingdom   Saturday    14   \n",
       "1  26-27 Great Tower St, London EC3R 5AQ, United ...   Saturday     7   \n",
       "2  5a More London Pl, London SE1 2BY, United Kingdom    Tuesday    23   \n",
       "3  32 Borough High St, London SE1 1XU, United Kin...    Tuesday     6   \n",
       "4  5a More London Pl, London SE1 2BY, United Kingdom  Wednesday    15   \n",
       "\n",
       "  busyness  busyness_numeric  popularity                     last_updated  \n",
       "0   Closed                 0    0.438710 2024-06-07 11:16:35.099076+00:00  \n",
       "1   Closed                 0    0.716129 2024-06-07 11:16:35.099076+00:00  \n",
       "2   Closed                 0    0.625806 2024-06-07 11:16:35.099076+00:00  \n",
       "3   Closed                 0    0.858065 2024-06-07 11:16:35.099076+00:00  \n",
       "4  Average                 3    0.625806 2024-06-07 11:16:35.099076+00:00  "
      ]
     },
     "execution_count": 28,
     "metadata": {},
     "output_type": "execute_result"
    }
   ],
   "source": [
    "# Load transformation functions from the feature store\n",
    "min_max_scaler = fs.get_transformation_function(name=\"min_max_scaler\")\n",
    "label_encoder = fs.get_transformation_function(name=\"label_encoder\")\n",
    "\n",
    "# Define numerical and categorical features\n",
    "numerical_features = [\"hour\"]\n",
    "categorical_features = [\"day\"]\n",
    "\n",
    "# Map features to transformation functions\n",
    "transformation_functions = {}\n",
    "for feature in numerical_features:\n",
    "    transformation_functions[feature] = min_max_scaler\n",
    "for feature in categorical_features:\n",
    "    transformation_functions[feature] = label_encoder\n",
    "\n",
    "df.head(5)"
   ]
  },
  {
   "cell_type": "markdown",
   "metadata": {},
   "source": [
    "### --- Step 4: Create the feature view ---"
   ]
  },
  {
   "cell_type": "code",
   "execution_count": 29,
   "metadata": {},
   "outputs": [
    {
     "name": "stdout",
     "output_type": "stream",
     "text": [
      "Feature view created successfully, explore it at \n",
      "https://c.app.hopsworks.ai:443/p/25749/fs/25669/fv/busyness_feature_view/version/4\n"
     ]
    }
   ],
   "source": [
    "query = fg.select_except(['busyness','venue_address','venue_name','last_updated','busyness'])\n",
    "\n",
    "feature_view = fs.get_or_create_feature_view(\n",
    "    name='busyness_feature_view',\n",
    "    version=FEATURE_VIEW_VERSION,\n",
    "    query=query,\n",
    "    labels=[\"busyness_numeric\"],\n",
    "    transformation_functions=transformation_functions,\n",
    ")\n",
    "\n",
    "# if the featureview is already created just retrieve it \n",
    "# feature_view = fs.get_feature_view(name='busyness_feature_view', version=FEATURE_VIEW_VERSION)\n"
   ]
  },
  {
   "cell_type": "markdown",
   "metadata": {},
   "source": [
    "### --- Step 5: Create the training dataset ---"
   ]
  },
  {
   "cell_type": "code",
   "execution_count": 30,
   "metadata": {},
   "outputs": [
    {
     "name": "stdout",
     "output_type": "stream",
     "text": [
      "Finished: Reading data from Hopsworks, using Hopsworks Feature Query Service (1.12s) \n",
      "2024-06-07 11:34:30,540 WARNING: VersionWarning: Incremented version to `1`.\n",
      "\n"
     ]
    },
    {
     "data": {
      "text/plain": [
       "(      day      hour  popularity\n",
       " 1       0  0.304348    0.716129\n",
       " 3       1  0.260870    0.858065\n",
       " 4       2  0.652174    0.625806\n",
       " 5       3  0.173913    0.764516\n",
       " 6       4  0.565217    1.000000\n",
       " ...   ...       ...         ...\n",
       " 4023    4  1.000000    0.832258\n",
       " 4025    4  0.652174    0.687097\n",
       " 4027    6  0.913043    0.625806\n",
       " 4029    6  0.347826    0.470968\n",
       " 4030    3  0.173913    0.651613\n",
       " \n",
       " [2822 rows x 3 columns],\n",
       "       day      hour  popularity\n",
       " 0       0  0.608696    0.438710\n",
       " 12      3  0.260870    0.774194\n",
       " 16      1  0.739130    0.858065\n",
       " 21      4  0.000000    0.812903\n",
       " 24      5  0.391304    0.564516\n",
       " ...   ...       ...         ...\n",
       " 4007    4  0.782609    0.993548\n",
       " 4013    0  0.956522    1.000000\n",
       " 4017    1  0.652174    0.912903\n",
       " 4019    4  0.043478    0.438710\n",
       " 4026    3  0.434783    0.625806\n",
       " \n",
       " [806 rows x 3 columns],\n",
       "       day      hour  popularity\n",
       " 2       1  1.000000    0.625806\n",
       " 9       2  0.043478    0.564516\n",
       " 11      4  0.652174    0.764516\n",
       " 20      3  0.304348    0.912903\n",
       " 28      2  0.043478    0.764516\n",
       " ...   ...       ...         ...\n",
       " 4008    1  0.652174    0.900000\n",
       " 4015    0  0.782609    0.832258\n",
       " 4024    0  0.913043    0.683871\n",
       " 4028    1  0.913043    0.564516\n",
       " 4031    2  0.565217    0.564516\n",
       " \n",
       " [404 rows x 3 columns],\n",
       "       busyness_numeric\n",
       " 1                    0\n",
       " 3                    0\n",
       " 4                    3\n",
       " 5                    0\n",
       " 6                    3\n",
       " ...                ...\n",
       " 4023                 3\n",
       " 4025                 4\n",
       " 4027                 1\n",
       " 4029                 0\n",
       " 4030                 0\n",
       " \n",
       " [2822 rows x 1 columns],\n",
       "       busyness_numeric\n",
       " 0                    0\n",
       " 12                   0\n",
       " 16                   3\n",
       " 21                   0\n",
       " 24                   0\n",
       " ...                ...\n",
       " 4007                 3\n",
       " 4013                 3\n",
       " 4017                 3\n",
       " 4019                 0\n",
       " 4026                 0\n",
       " \n",
       " [806 rows x 1 columns],\n",
       "     busyness_numeric\n",
       " 2                  0\n",
       " 9                  0\n",
       " 11                 3)"
      ]
     },
     "execution_count": 30,
     "metadata": {},
     "output_type": "execute_result"
    }
   ],
   "source": [
    "# Split data into training, validation, and test sets\n",
    "X_train, X_val, X_test, y_train, y_val, y_test = feature_view.train_validation_test_split(\n",
    "    validation_size=0.2,\n",
    "    test_size=0.1,\n",
    ")\n",
    "\n",
    "X_train, X_val, X_test, y_train, y_val, y_test.head(3)"
   ]
  },
  {
   "cell_type": "markdown",
   "metadata": {},
   "source": [
    "### --- Step 6: Train amd evaluate the model ---"
   ]
  },
  {
   "cell_type": "code",
   "execution_count": 31,
   "metadata": {},
   "outputs": [
    {
     "name": "stdout",
     "output_type": "stream",
     "text": [
      "{'f1_score': 0.5473356268252599}\n",
      "2024-06-07 11:34:34,030 WARNING: UserWarning: FigureCanvasAgg is non-interactive, and thus cannot be shown\n",
      "\n"
     ]
    },
    {
     "data": {
      "image/png": "[encoded data removed]",
      "text/plain": [
       "<Figure size 640x480 with 2 Axes>"
      ]
     },
     "metadata": {},
     "output_type": "display_data"
    }
   ],
   "source": [
    "\n",
    "# Create an instance of the XGBClassifier \n",
    "model = xgb.XGBClassifier()\n",
    "model.fit(X_train, y_train)\n",
    "\n",
    "# Predict and evaluate\n",
    "y_pred_train = model.predict(X_train)\n",
    "y_pred_val = model.predict(X_val)\n",
    "y_pred_test = model.predict(X_test)\n",
    "\n",
    "# Compute metrics\n",
    "metrics = {\"f1_score\": f1_score(y_test, y_pred_test, average='macro')}\n",
    "print(metrics)\n",
    "\n",
    "# Confusion matrix\n",
    "results = confusion_matrix(y_test, y_pred_test, labels=[0, 1])\n",
    "df_cm = pd.DataFrame(results, ['True Low', 'True High'], ['Pred Low', 'Pred High'])\n",
    "cm = sns.heatmap(df_cm, annot=True)\n",
    "cm.get_figure().show()\n"
   ]
  },
  {
   "cell_type": "code",
   "execution_count": null,
   "metadata": {},
   "outputs": [],
   "source": []
  }
 ],
 "metadata": {
  "kernelspec": {
   "display_name": "python31012",
   "language": "python",
   "name": "python3"
  },
  "language_info": {
   "codemirror_mode": {
    "name": "ipython",
    "version": 3
   },
   "file_extension": ".py",
   "mimetype": "text/x-python",
   "name": "python",
   "nbconvert_exporter": "python",
   "pygments_lexer": "ipython3",
   "version": "3.10.12"
  }
 },
 "nbformat": 4,
 "nbformat_minor": 2
}
